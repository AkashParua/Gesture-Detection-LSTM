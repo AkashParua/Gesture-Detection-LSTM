{
 "cells": [
  {
   "cell_type": "code",
   "execution_count": 10,
   "metadata": {},
   "outputs": [],
   "source": [
    "from tensorflow.keras.models import Sequential\n",
    "from tensorflow.keras.layers import Dense , LSTM"
   ]
  },
  {
   "cell_type": "code",
   "execution_count": 11,
   "metadata": {},
   "outputs": [],
   "source": [
    "model = Sequential()\n",
    "model.add(LSTM(64, input_shape=(30,258), activation='relu', return_sequences=True))\n",
    "model.add(LSTM(128, return_sequences=True ,activation='relu'))\n",
    "model.add(LSTM(64, return_sequences=False ,activation='relu'))\n",
    "model.add(Dense(64, activation='relu'))\n",
    "model.add(Dense(32, activation='relu'))\n",
    "model.add(Dense(5, activation='softmax'))    # 5 classes , replace with number of classes in your dataset"
   ]
  },
  {
   "cell_type": "code",
   "execution_count": 12,
   "metadata": {},
   "outputs": [],
   "source": [
    "model.compile(optimizer='adam', loss='categorical_crossentropy', metrics=['accuracy'])"
   ]
  },
  {
   "cell_type": "code",
   "execution_count": 13,
   "metadata": {},
   "outputs": [],
   "source": [
    "import numpy as np"
   ]
  },
  {
   "cell_type": "code",
   "execution_count": 14,
   "metadata": {},
   "outputs": [],
   "source": [
    "#laoding numpy arrays\n",
    "x_train = np.load('x_train.npy')\n",
    "y_train = np.load('y_train.npy')\n",
    "x_test = np.load('x_test.npy')\n",
    "y_test = np.load('y_test.npy')"
   ]
  },
  {
   "cell_type": "code",
   "execution_count": 15,
   "metadata": {},
   "outputs": [
    {
     "name": "stdout",
     "output_type": "stream",
     "text": [
      "Epoch 1/103\n",
      "5/5 [==============================] - 3s 113ms/step - loss: 1.5680 - accuracy: 0.2000 - val_loss: 1.3248 - val_accuracy: 0.3333\n",
      "Epoch 2/103\n",
      "5/5 [==============================] - 0s 30ms/step - loss: 1.8112 - accuracy: 0.3852 - val_loss: 1.4713 - val_accuracy: 0.4667\n",
      "Epoch 3/103\n",
      "5/5 [==============================] - 0s 30ms/step - loss: 1.4801 - accuracy: 0.4000 - val_loss: 1.3621 - val_accuracy: 0.4000\n",
      "Epoch 4/103\n",
      "5/5 [==============================] - 0s 31ms/step - loss: 1.3250 - accuracy: 0.3259 - val_loss: 1.1603 - val_accuracy: 0.6667\n",
      "Epoch 5/103\n",
      "5/5 [==============================] - 0s 30ms/step - loss: 1.1756 - accuracy: 0.5556 - val_loss: 0.8513 - val_accuracy: 0.6000\n",
      "Epoch 6/103\n",
      "5/5 [==============================] - 0s 30ms/step - loss: 1.2233 - accuracy: 0.5704 - val_loss: 1.0053 - val_accuracy: 0.4667\n",
      "Epoch 7/103\n",
      "5/5 [==============================] - 0s 32ms/step - loss: 1.0788 - accuracy: 0.4370 - val_loss: 1.1570 - val_accuracy: 0.5333\n",
      "Epoch 8/103\n",
      "5/5 [==============================] - 0s 32ms/step - loss: 0.9610 - accuracy: 0.5407 - val_loss: 1.5750 - val_accuracy: 0.4000\n",
      "Epoch 9/103\n",
      "5/5 [==============================] - 0s 32ms/step - loss: 1.5160 - accuracy: 0.5259 - val_loss: 1.4130 - val_accuracy: 0.4000\n",
      "Epoch 10/103\n",
      "5/5 [==============================] - 0s 31ms/step - loss: 1.3894 - accuracy: 0.4741 - val_loss: 1.4098 - val_accuracy: 0.4000\n",
      "Epoch 11/103\n",
      "5/5 [==============================] - 0s 31ms/step - loss: 1.3178 - accuracy: 0.4444 - val_loss: 1.2285 - val_accuracy: 0.4667\n",
      "Epoch 12/103\n",
      "5/5 [==============================] - 0s 31ms/step - loss: 1.1378 - accuracy: 0.4148 - val_loss: 1.1753 - val_accuracy: 0.4667\n",
      "Epoch 13/103\n",
      "5/5 [==============================] - 0s 31ms/step - loss: 1.0269 - accuracy: 0.4889 - val_loss: 1.0997 - val_accuracy: 0.4000\n",
      "Epoch 14/103\n",
      "5/5 [==============================] - 0s 30ms/step - loss: 1.0366 - accuracy: 0.5259 - val_loss: 1.1662 - val_accuracy: 0.4667\n",
      "Epoch 15/103\n",
      "5/5 [==============================] - 0s 32ms/step - loss: 0.9113 - accuracy: 0.5630 - val_loss: 1.1786 - val_accuracy: 0.5333\n",
      "Epoch 16/103\n",
      "5/5 [==============================] - 0s 38ms/step - loss: 0.7790 - accuracy: 0.6889 - val_loss: 1.1046 - val_accuracy: 0.4667\n",
      "Epoch 17/103\n",
      "5/5 [==============================] - 0s 33ms/step - loss: 0.9646 - accuracy: 0.5556 - val_loss: 0.9322 - val_accuracy: 0.6000\n",
      "Epoch 18/103\n",
      "5/5 [==============================] - 0s 31ms/step - loss: 0.6876 - accuracy: 0.6963 - val_loss: 0.8638 - val_accuracy: 0.7333\n",
      "Epoch 19/103\n",
      "5/5 [==============================] - 0s 30ms/step - loss: 0.6276 - accuracy: 0.7630 - val_loss: 0.6719 - val_accuracy: 0.8000\n",
      "Epoch 20/103\n",
      "5/5 [==============================] - 0s 37ms/step - loss: 0.5392 - accuracy: 0.7704 - val_loss: 0.6918 - val_accuracy: 0.7333\n",
      "Epoch 21/103\n",
      "5/5 [==============================] - 0s 38ms/step - loss: 0.4881 - accuracy: 0.7704 - val_loss: 0.5999 - val_accuracy: 0.8000\n",
      "Epoch 22/103\n",
      "5/5 [==============================] - 0s 30ms/step - loss: 0.4263 - accuracy: 0.8148 - val_loss: 0.5489 - val_accuracy: 0.8000\n",
      "Epoch 23/103\n",
      "5/5 [==============================] - 0s 37ms/step - loss: 0.4145 - accuracy: 0.8222 - val_loss: 0.5817 - val_accuracy: 0.8667\n",
      "Epoch 24/103\n",
      "5/5 [==============================] - 0s 30ms/step - loss: 0.3632 - accuracy: 0.8222 - val_loss: 0.7534 - val_accuracy: 0.8667\n",
      "Epoch 25/103\n",
      "5/5 [==============================] - 0s 41ms/step - loss: 0.3118 - accuracy: 0.8593 - val_loss: 0.4923 - val_accuracy: 0.7333\n",
      "Epoch 26/103\n",
      "5/5 [==============================] - 0s 32ms/step - loss: 0.2629 - accuracy: 0.8667 - val_loss: 0.6374 - val_accuracy: 0.7333\n",
      "Epoch 27/103\n",
      "5/5 [==============================] - 0s 38ms/step - loss: 1.6180 - accuracy: 0.8667 - val_loss: 5.1911 - val_accuracy: 0.5333\n",
      "Epoch 28/103\n",
      "5/5 [==============================] - 0s 37ms/step - loss: 1.7422 - accuracy: 0.4963 - val_loss: 1.3538 - val_accuracy: 0.4000\n",
      "Epoch 29/103\n",
      "5/5 [==============================] - 0s 38ms/step - loss: 1.3679 - accuracy: 0.3333 - val_loss: 1.2663 - val_accuracy: 0.4000\n",
      "Epoch 30/103\n",
      "5/5 [==============================] - 0s 36ms/step - loss: 1.1756 - accuracy: 0.4148 - val_loss: 1.0938 - val_accuracy: 0.4000\n",
      "Epoch 31/103\n",
      "5/5 [==============================] - 0s 33ms/step - loss: 0.9969 - accuracy: 0.4593 - val_loss: 0.9709 - val_accuracy: 0.4667\n",
      "Epoch 32/103\n",
      "5/5 [==============================] - 0s 31ms/step - loss: 0.9277 - accuracy: 0.6593 - val_loss: 0.8683 - val_accuracy: 0.5333\n",
      "Epoch 33/103\n",
      "5/5 [==============================] - 0s 33ms/step - loss: 0.7151 - accuracy: 0.7778 - val_loss: 0.6925 - val_accuracy: 0.6667\n",
      "Epoch 34/103\n",
      "5/5 [==============================] - 0s 31ms/step - loss: 0.7280 - accuracy: 0.7852 - val_loss: 0.7502 - val_accuracy: 0.6000\n",
      "Epoch 35/103\n",
      "5/5 [==============================] - 0s 31ms/step - loss: 0.5513 - accuracy: 0.7926 - val_loss: 0.6882 - val_accuracy: 0.7333\n",
      "Epoch 36/103\n",
      "5/5 [==============================] - 0s 32ms/step - loss: 0.4510 - accuracy: 0.8593 - val_loss: 0.5063 - val_accuracy: 0.8667\n",
      "Epoch 37/103\n",
      "5/5 [==============================] - 0s 39ms/step - loss: 0.3516 - accuracy: 0.8593 - val_loss: 0.5677 - val_accuracy: 0.8000\n",
      "Epoch 38/103\n",
      "5/5 [==============================] - 0s 31ms/step - loss: 0.4426 - accuracy: 0.8074 - val_loss: 0.6098 - val_accuracy: 0.7333\n",
      "Epoch 39/103\n",
      "5/5 [==============================] - 0s 30ms/step - loss: 0.3924 - accuracy: 0.8667 - val_loss: 0.4025 - val_accuracy: 0.8000\n",
      "Epoch 40/103\n",
      "5/5 [==============================] - 0s 31ms/step - loss: 0.3797 - accuracy: 0.8444 - val_loss: 0.5064 - val_accuracy: 0.8000\n",
      "Epoch 41/103\n",
      "5/5 [==============================] - 0s 30ms/step - loss: 0.4903 - accuracy: 0.7556 - val_loss: 0.8850 - val_accuracy: 0.6667\n",
      "Epoch 42/103\n",
      "5/5 [==============================] - 0s 37ms/step - loss: 0.7644 - accuracy: 0.6963 - val_loss: 0.6799 - val_accuracy: 0.6667\n",
      "Epoch 43/103\n",
      "5/5 [==============================] - 0s 31ms/step - loss: 0.7207 - accuracy: 0.7704 - val_loss: 0.9611 - val_accuracy: 0.6000\n",
      "Epoch 44/103\n",
      "5/5 [==============================] - 0s 30ms/step - loss: 0.7516 - accuracy: 0.6444 - val_loss: 0.9549 - val_accuracy: 0.6000\n",
      "Epoch 45/103\n",
      "5/5 [==============================] - 0s 35ms/step - loss: 0.8546 - accuracy: 0.6222 - val_loss: 1.0222 - val_accuracy: 0.6000\n",
      "Epoch 46/103\n",
      "5/5 [==============================] - 0s 39ms/step - loss: 0.8318 - accuracy: 0.6370 - val_loss: 0.7457 - val_accuracy: 0.7333\n",
      "Epoch 47/103\n",
      "5/5 [==============================] - 0s 41ms/step - loss: 0.6702 - accuracy: 0.6741 - val_loss: 0.6340 - val_accuracy: 0.6667\n",
      "Epoch 48/103\n",
      "5/5 [==============================] - 0s 31ms/step - loss: 0.6034 - accuracy: 0.6963 - val_loss: 0.7858 - val_accuracy: 0.8000\n",
      "Epoch 49/103\n",
      "5/5 [==============================] - 0s 41ms/step - loss: 0.6118 - accuracy: 0.6741 - val_loss: 0.6980 - val_accuracy: 0.6667\n",
      "Epoch 50/103\n",
      "5/5 [==============================] - 0s 31ms/step - loss: 0.5567 - accuracy: 0.7185 - val_loss: 0.7709 - val_accuracy: 0.6000\n",
      "Epoch 51/103\n",
      "5/5 [==============================] - 0s 34ms/step - loss: 0.5140 - accuracy: 0.7852 - val_loss: 0.8648 - val_accuracy: 0.8667\n",
      "Epoch 52/103\n",
      "5/5 [==============================] - 0s 36ms/step - loss: 0.4674 - accuracy: 0.8074 - val_loss: 0.6944 - val_accuracy: 0.7333\n",
      "Epoch 53/103\n",
      "5/5 [==============================] - 0s 40ms/step - loss: 0.3901 - accuracy: 0.8296 - val_loss: 0.2932 - val_accuracy: 0.9333\n",
      "Epoch 54/103\n",
      "5/5 [==============================] - 0s 36ms/step - loss: 0.5084 - accuracy: 0.8000 - val_loss: 1.4355 - val_accuracy: 0.8000\n",
      "Epoch 55/103\n",
      "5/5 [==============================] - 0s 39ms/step - loss: 0.6658 - accuracy: 0.7556 - val_loss: 0.7790 - val_accuracy: 0.7333\n",
      "Epoch 56/103\n",
      "5/5 [==============================] - 0s 34ms/step - loss: 0.8707 - accuracy: 0.6519 - val_loss: 1.1615 - val_accuracy: 0.6000\n",
      "Epoch 57/103\n",
      "5/5 [==============================] - 0s 31ms/step - loss: 1.0932 - accuracy: 0.5333 - val_loss: 1.0017 - val_accuracy: 0.7333\n",
      "Epoch 58/103\n",
      "5/5 [==============================] - 0s 30ms/step - loss: 0.9359 - accuracy: 0.6370 - val_loss: 0.8450 - val_accuracy: 0.5333\n",
      "Epoch 59/103\n",
      "5/5 [==============================] - 0s 31ms/step - loss: 0.7458 - accuracy: 0.6741 - val_loss: 0.6682 - val_accuracy: 0.7333\n",
      "Epoch 60/103\n",
      "5/5 [==============================] - 0s 31ms/step - loss: 0.4993 - accuracy: 0.7926 - val_loss: 0.3954 - val_accuracy: 0.8667\n",
      "Epoch 61/103\n",
      "5/5 [==============================] - 0s 31ms/step - loss: 0.7482 - accuracy: 0.8148 - val_loss: 1.1364 - val_accuracy: 0.4667\n",
      "Epoch 62/103\n",
      "5/5 [==============================] - 0s 33ms/step - loss: 0.9485 - accuracy: 0.6222 - val_loss: 0.8185 - val_accuracy: 0.6667\n",
      "Epoch 63/103\n",
      "5/5 [==============================] - 0s 32ms/step - loss: 1.1678 - accuracy: 0.6667 - val_loss: 1.0377 - val_accuracy: 0.6000\n",
      "Epoch 64/103\n",
      "5/5 [==============================] - 0s 35ms/step - loss: 1.2324 - accuracy: 0.4444 - val_loss: 1.0320 - val_accuracy: 0.6000\n",
      "Epoch 65/103\n",
      "5/5 [==============================] - 0s 42ms/step - loss: 1.1034 - accuracy: 0.5037 - val_loss: 0.9683 - val_accuracy: 0.6667\n",
      "Epoch 66/103\n",
      "5/5 [==============================] - 0s 31ms/step - loss: 1.0233 - accuracy: 0.5481 - val_loss: 0.9354 - val_accuracy: 0.6000\n",
      "Epoch 67/103\n",
      "5/5 [==============================] - 0s 33ms/step - loss: 0.9740 - accuracy: 0.5778 - val_loss: 0.8406 - val_accuracy: 0.7333\n",
      "Epoch 68/103\n",
      "5/5 [==============================] - 0s 31ms/step - loss: 0.9489 - accuracy: 0.5704 - val_loss: 0.7702 - val_accuracy: 0.7333\n",
      "Epoch 69/103\n",
      "5/5 [==============================] - 0s 31ms/step - loss: 0.8221 - accuracy: 0.6593 - val_loss: 0.7403 - val_accuracy: 0.5333\n",
      "Epoch 70/103\n",
      "5/5 [==============================] - 0s 31ms/step - loss: 0.7354 - accuracy: 0.6889 - val_loss: 0.6610 - val_accuracy: 0.6667\n",
      "Epoch 71/103\n",
      "5/5 [==============================] - 0s 31ms/step - loss: 0.6989 - accuracy: 0.6815 - val_loss: 1.5140 - val_accuracy: 0.6000\n",
      "Epoch 72/103\n",
      "5/5 [==============================] - 0s 31ms/step - loss: 0.6176 - accuracy: 0.7481 - val_loss: 0.6876 - val_accuracy: 0.8000\n",
      "Epoch 73/103\n",
      "5/5 [==============================] - 0s 31ms/step - loss: 0.5669 - accuracy: 0.8000 - val_loss: 0.8337 - val_accuracy: 0.8000\n",
      "Epoch 74/103\n",
      "5/5 [==============================] - 0s 31ms/step - loss: 0.6956 - accuracy: 0.7111 - val_loss: 0.6579 - val_accuracy: 0.7333\n",
      "Epoch 75/103\n",
      "5/5 [==============================] - 0s 31ms/step - loss: 0.5312 - accuracy: 0.7704 - val_loss: 1.1263 - val_accuracy: 0.6667\n",
      "Epoch 76/103\n",
      "5/5 [==============================] - 0s 34ms/step - loss: 0.5318 - accuracy: 0.8000 - val_loss: 0.6574 - val_accuracy: 0.8000\n",
      "Epoch 77/103\n",
      "5/5 [==============================] - 0s 32ms/step - loss: 0.5147 - accuracy: 0.8000 - val_loss: 0.6794 - val_accuracy: 0.7333\n",
      "Epoch 78/103\n",
      "5/5 [==============================] - 0s 31ms/step - loss: 0.5473 - accuracy: 0.7852 - val_loss: 0.9830 - val_accuracy: 0.8000\n",
      "Epoch 79/103\n",
      "5/5 [==============================] - 0s 32ms/step - loss: 0.6240 - accuracy: 0.7259 - val_loss: 0.6631 - val_accuracy: 0.7333\n",
      "Epoch 80/103\n",
      "5/5 [==============================] - 0s 31ms/step - loss: 0.6423 - accuracy: 0.7407 - val_loss: 0.4895 - val_accuracy: 0.9333\n",
      "Epoch 81/103\n",
      "5/5 [==============================] - 0s 31ms/step - loss: 0.4392 - accuracy: 0.7852 - val_loss: 0.9415 - val_accuracy: 0.8000\n",
      "Epoch 82/103\n",
      "5/5 [==============================] - 0s 31ms/step - loss: 0.4550 - accuracy: 0.8370 - val_loss: 0.8137 - val_accuracy: 0.8000\n",
      "Epoch 83/103\n",
      "5/5 [==============================] - 0s 31ms/step - loss: 0.4211 - accuracy: 0.8444 - val_loss: 1.1054 - val_accuracy: 0.8000\n",
      "Epoch 84/103\n",
      "5/5 [==============================] - 0s 31ms/step - loss: 0.4802 - accuracy: 0.7556 - val_loss: 0.4102 - val_accuracy: 0.9333\n",
      "Epoch 85/103\n",
      "5/5 [==============================] - 0s 31ms/step - loss: 0.2955 - accuracy: 0.9111 - val_loss: 0.5895 - val_accuracy: 0.7333\n",
      "Epoch 86/103\n",
      "5/5 [==============================] - 0s 31ms/step - loss: 0.2905 - accuracy: 0.9037 - val_loss: 0.3899 - val_accuracy: 0.8667\n",
      "Epoch 87/103\n",
      "5/5 [==============================] - 0s 31ms/step - loss: 0.2292 - accuracy: 0.9259 - val_loss: 0.3625 - val_accuracy: 0.9333\n",
      "Epoch 88/103\n",
      "5/5 [==============================] - 0s 34ms/step - loss: 0.2676 - accuracy: 0.8741 - val_loss: 0.6380 - val_accuracy: 0.7333\n",
      "Epoch 89/103\n",
      "5/5 [==============================] - 0s 30ms/step - loss: 0.2364 - accuracy: 0.8815 - val_loss: 0.3423 - val_accuracy: 0.8667\n",
      "Epoch 90/103\n",
      "5/5 [==============================] - 0s 31ms/step - loss: 0.1856 - accuracy: 0.9481 - val_loss: 0.3868 - val_accuracy: 0.8667\n",
      "Epoch 91/103\n",
      "5/5 [==============================] - 0s 31ms/step - loss: 0.1389 - accuracy: 0.9630 - val_loss: 0.7070 - val_accuracy: 0.8000\n",
      "Epoch 92/103\n",
      "5/5 [==============================] - 0s 31ms/step - loss: 0.1364 - accuracy: 0.9407 - val_loss: 0.6119 - val_accuracy: 0.9333\n",
      "Epoch 93/103\n",
      "5/5 [==============================] - 0s 31ms/step - loss: 0.1479 - accuracy: 0.9407 - val_loss: 0.8380 - val_accuracy: 0.8667\n",
      "Epoch 94/103\n",
      "5/5 [==============================] - 0s 33ms/step - loss: 0.2151 - accuracy: 0.9037 - val_loss: 0.2945 - val_accuracy: 0.8667\n",
      "Epoch 95/103\n",
      "5/5 [==============================] - 0s 32ms/step - loss: 0.1409 - accuracy: 0.9333 - val_loss: 0.4471 - val_accuracy: 0.8000\n",
      "Epoch 96/103\n",
      "5/5 [==============================] - 0s 31ms/step - loss: 0.1037 - accuracy: 0.9630 - val_loss: 0.2937 - val_accuracy: 0.8667\n",
      "Epoch 97/103\n",
      "5/5 [==============================] - 0s 31ms/step - loss: 0.0717 - accuracy: 0.9778 - val_loss: 0.3473 - val_accuracy: 0.8667\n",
      "Epoch 98/103\n",
      "5/5 [==============================] - 0s 31ms/step - loss: 0.0565 - accuracy: 0.9852 - val_loss: 0.2212 - val_accuracy: 0.9333\n",
      "Epoch 99/103\n",
      "5/5 [==============================] - 0s 38ms/step - loss: 0.1881 - accuracy: 0.9259 - val_loss: 0.4006 - val_accuracy: 0.8000\n",
      "Epoch 100/103\n",
      "5/5 [==============================] - 0s 31ms/step - loss: 0.6859 - accuracy: 0.7852 - val_loss: 0.5986 - val_accuracy: 0.8667\n",
      "Epoch 101/103\n",
      "5/5 [==============================] - 0s 31ms/step - loss: 0.5386 - accuracy: 0.8519 - val_loss: 0.7042 - val_accuracy: 0.8000\n",
      "Epoch 102/103\n",
      "5/5 [==============================] - 0s 31ms/step - loss: 0.5524 - accuracy: 0.8444 - val_loss: 0.6308 - val_accuracy: 0.8667\n",
      "Epoch 103/103\n",
      "5/5 [==============================] - 0s 31ms/step - loss: 0.4670 - accuracy: 0.8963 - val_loss: 0.5797 - val_accuracy: 0.8667\n"
     ]
    },
    {
     "data": {
      "text/plain": [
       "<keras.src.callbacks.History at 0x7effec469c00>"
      ]
     },
     "execution_count": 15,
     "metadata": {},
     "output_type": "execute_result"
    }
   ],
   "source": [
    "model.fit(x_train, y_train , epochs=103, validation_data=(x_test, y_test))"
   ]
  },
  {
   "cell_type": "code",
   "execution_count": 16,
   "metadata": {},
   "outputs": [
    {
     "name": "stdout",
     "output_type": "stream",
     "text": [
      "Model: \"sequential_1\"\n",
      "_________________________________________________________________\n",
      " Layer (type)                Output Shape              Param #   \n",
      "=================================================================\n",
      " lstm_3 (LSTM)               (None, 30, 64)            82688     \n",
      "                                                                 \n",
      " lstm_4 (LSTM)               (None, 30, 128)           98816     \n",
      "                                                                 \n",
      " lstm_5 (LSTM)               (None, 64)                49408     \n",
      "                                                                 \n",
      " dense_3 (Dense)             (None, 64)                4160      \n",
      "                                                                 \n",
      " dense_4 (Dense)             (None, 32)                2080      \n",
      "                                                                 \n",
      " dense_5 (Dense)             (None, 5)                 165       \n",
      "                                                                 \n",
      "=================================================================\n",
      "Total params: 237317 (927.02 KB)\n",
      "Trainable params: 237317 (927.02 KB)\n",
      "Non-trainable params: 0 (0.00 Byte)\n",
      "_________________________________________________________________\n"
     ]
    }
   ],
   "source": [
    "model.summary()"
   ]
  },
  {
   "cell_type": "code",
   "execution_count": 17,
   "metadata": {},
   "outputs": [
    {
     "name": "stderr",
     "output_type": "stream",
     "text": [
      "/home/akash/miniconda3/envs/lstm/lib/python3.10/site-packages/keras/src/engine/training.py:3079: UserWarning: You are saving your model as an HDF5 file via `model.save()`. This file format is considered legacy. We recommend using instead the native Keras format, e.g. `model.save('my_model.keras')`.\n",
      "  saving_api.save_model(\n"
     ]
    }
   ],
   "source": [
    "model.save('model.h5')"
   ]
  },
  {
   "cell_type": "code",
   "execution_count": 19,
   "metadata": {},
   "outputs": [],
   "source": [
    "# Demo for prediction\n",
    "frames = np.load('Data/right/11.npy')\n",
    "frames = frames.reshape(1,30,258)\n"
   ]
  },
  {
   "cell_type": "code",
   "execution_count": 15,
   "metadata": {},
   "outputs": [
    {
     "data": {
      "text/plain": [
       "(30, 258)"
      ]
     },
     "execution_count": 15,
     "metadata": {},
     "output_type": "execute_result"
    }
   ],
   "source": [
    "frames.shape"
   ]
  },
  {
   "cell_type": "code",
   "execution_count": 21,
   "metadata": {},
   "outputs": [
    {
     "name": "stdout",
     "output_type": "stream",
     "text": [
      "1/1 [==============================] - 0s 34ms/step\n"
     ]
    },
    {
     "data": {
      "text/plain": [
       "array([7.1297512e-28, 3.4098075e-19, 1.0789148e-20, 1.0000000e+00,\n",
       "       1.1300229e-08], dtype=float32)"
      ]
     },
     "execution_count": 21,
     "metadata": {},
     "output_type": "execute_result"
    }
   ],
   "source": [
    "res = model.predict(frames)\n",
    "res[0]"
   ]
  }
 ],
 "metadata": {
  "kernelspec": {
   "display_name": "lstm",
   "language": "python",
   "name": "python3"
  },
  "language_info": {
   "codemirror_mode": {
    "name": "ipython",
    "version": 3
   },
   "file_extension": ".py",
   "mimetype": "text/x-python",
   "name": "python",
   "nbconvert_exporter": "python",
   "pygments_lexer": "ipython3",
   "version": "3.10.13"
  }
 },
 "nbformat": 4,
 "nbformat_minor": 2
}
