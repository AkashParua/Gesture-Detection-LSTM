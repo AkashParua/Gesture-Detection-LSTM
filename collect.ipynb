{
 "cells": [
  {
   "cell_type": "code",
   "execution_count": 1,
   "metadata": {},
   "outputs": [
    {
     "name": "stderr",
     "output_type": "stream",
     "text": [
      "2023-10-24 23:48:00.621791: I tensorflow/tsl/cuda/cudart_stub.cc:28] Could not find cuda drivers on your machine, GPU will not be used.\n",
      "2023-10-24 23:48:03.373836: E tensorflow/compiler/xla/stream_executor/cuda/cuda_dnn.cc:9342] Unable to register cuDNN factory: Attempting to register factory for plugin cuDNN when one has already been registered\n",
      "2023-10-24 23:48:03.373871: E tensorflow/compiler/xla/stream_executor/cuda/cuda_fft.cc:609] Unable to register cuFFT factory: Attempting to register factory for plugin cuFFT when one has already been registered\n",
      "2023-10-24 23:48:03.385476: E tensorflow/compiler/xla/stream_executor/cuda/cuda_blas.cc:1518] Unable to register cuBLAS factory: Attempting to register factory for plugin cuBLAS when one has already been registered\n",
      "2023-10-24 23:48:04.897740: I tensorflow/tsl/cuda/cudart_stub.cc:28] Could not find cuda drivers on your machine, GPU will not be used.\n",
      "2023-10-24 23:48:04.905193: I tensorflow/core/platform/cpu_feature_guard.cc:182] This TensorFlow binary is optimized to use available CPU instructions in performance-critical operations.\n",
      "To enable the following instructions: AVX2 FMA, in other operations, rebuild TensorFlow with the appropriate compiler flags.\n",
      "2023-10-24 23:48:08.554182: W tensorflow/compiler/tf2tensorrt/utils/py_utils.cc:38] TF-TRT Warning: Could not find TensorRT\n"
     ]
    }
   ],
   "source": [
    "import cv2\n",
    "import numpy as np\n",
    "import os\n",
    "import matplotlib.pyplot as plt\n",
    "import time\n",
    "import mediapipe as mp\n"
   ]
  },
  {
   "cell_type": "code",
   "execution_count": 2,
   "metadata": {},
   "outputs": [],
   "source": [
    "mp_holistic  = mp.solutions.holistic\n",
    "mp_drawing   = mp.solutions.drawing_utils"
   ]
  },
  {
   "cell_type": "code",
   "execution_count": 3,
   "metadata": {},
   "outputs": [],
   "source": [
    "def captureLandmarks(cv2image , model ):\n",
    "    image = cv2.cvtColor(cv2image, cv2.COLOR_BGR2RGB)\n",
    "    image.flags.writeable = False\n",
    "    results = model.process(image)\n",
    "    image.flags.writeable = True\n",
    "    cv2_img_result = cv2.cvtColor(image, cv2.COLOR_RGB2BGR)\n",
    "    return cv2_img_result, results\n"
   ]
  },
  {
   "cell_type": "code",
   "execution_count": 4,
   "metadata": {},
   "outputs": [],
   "source": [
    "def drawlandmarks(image , result):\n",
    "    mp_drawing.draw_landmarks(image, result.left_hand_landmarks, mp_holistic.HAND_CONNECTIONS)\n",
    "    mp_drawing.draw_landmarks(image, result.right_hand_landmarks, mp_holistic.HAND_CONNECTIONS)\n",
    "    mp_drawing.draw_landmarks(image, result.pose_landmarks, mp_holistic.POSE_CONNECTIONS)"
   ]
  },
  {
   "cell_type": "code",
   "execution_count": 5,
   "metadata": {},
   "outputs": [],
   "source": [
    "def landmark_to_numpy(result):\n",
    "    pose = np.array([[res.x, res.y, res.z, res.visibility] for res in result.pose_landmarks.landmark]).flatten() if result.pose_landmarks else np.zeros(132)\n",
    "    left_hand = np.array([[res.x, res.y, res.z] for res in result.left_hand_landmarks.landmark]).flatten() if result.left_hand_landmarks else np.zeros(63)\n",
    "    right_hand = np.array([[res.x, res.y, res.z] for res in result.right_hand_landmarks.landmark]).flatten() if result.right_hand_landmarks else np.zeros(63)\n",
    "    return np.concatenate([pose, left_hand, right_hand]).tolist()"
   ]
  },
  {
   "cell_type": "code",
   "execution_count": 6,
   "metadata": {},
   "outputs": [],
   "source": [
    "#function returns a numpy array of shape (30,258) where 30 is the number of frames and 258 is the number of landmarks\n",
    "def capture_frame_seq():\n",
    "    \n",
    "    # action frames contain 30 frames for a given action and each frame contains 258 landmarks\n",
    "    action_frames = []\n",
    "    with mp_holistic.Holistic(min_detection_confidence=0.5, min_tracking_confidence=0.5) as holistic:\n",
    "        cap = cv2.VideoCapture(0)\n",
    "        count = 0 # frame count\n",
    "        print(\"STARTING CAPTURE IN 2 SECONDS\")\n",
    "        for i in range(2):\n",
    "            print(2-i)\n",
    "            time.sleep(1)\n",
    "           \n",
    "        print(\"STARTING CAPTURE\")\n",
    "        while cap.isOpened():\n",
    "            if count == 30:\n",
    "                break \n",
    "            count += 1\n",
    "            ret, frame = cap.read()\n",
    "            #finding lanfdmarks\n",
    "            image , result = captureLandmarks(frame, holistic)\n",
    "            # adding landmarks to action_frames\n",
    "            action_frames.append(landmark_to_numpy(result))\n",
    "            #drawing landmarks\n",
    "            drawlandmarks(image , result)\n",
    "            #showing image\n",
    "            cv2.imshow('Webcam Feed', image)\n",
    "            if cv2.waitKey(10) & 0xFF == ord('q'):\n",
    "                break\n",
    "        cap.release()\n",
    "        cv2.destroyAllWindows()\n",
    "    return np.array(action_frames)"
   ]
  },
  {
   "cell_type": "code",
   "execution_count": 22,
   "metadata": {},
   "outputs": [
    {
     "name": "stdout",
     "output_type": "stream",
     "text": [
      "STARTING CAPTURE IN 2 SECONDS\n",
      "2\n",
      "1\n",
      "STARTING CAPTURE\n"
     ]
    }
   ],
   "source": [
    "array = capture_frame_seq()"
   ]
  },
  {
   "cell_type": "code",
   "execution_count": 7,
   "metadata": {},
   "outputs": [],
   "source": [
    "def capture_and_store(action_name , path_to_store):\n",
    "    # capture and save 30 numpy in a folder\n",
    "    # path_to_store = \"data/action_name\"\n",
    "    os.mkdir(path_to_store)\n",
    "    #saving 30 videos in the folder\n",
    "    for i in range(30):\n",
    "        array = capture_frame_seq()\n",
    "        np.save(path_to_store + \"/\" + str(i) + \".npy\", array)\n",
    "        print(\"SAVED \" + str(i) + \"th file\")\n",
    "    "
   ]
  },
  {
   "cell_type": "code",
   "execution_count": 9,
   "metadata": {},
   "outputs": [
    {
     "name": "stdout",
     "output_type": "stream",
     "text": [
      "STARTING CAPTURE IN 2 SECONDS\n",
      "2\n"
     ]
    },
    {
     "name": "stderr",
     "output_type": "stream",
     "text": [
      "INFO: Created TensorFlow Lite XNNPACK delegate for CPU.\n"
     ]
    },
    {
     "name": "stdout",
     "output_type": "stream",
     "text": [
      "1\n",
      "STARTING CAPTURE\n",
      "SAVED 0th file\n",
      "STARTING CAPTURE IN 2 SECONDS\n",
      "2\n",
      "1\n",
      "STARTING CAPTURE\n",
      "SAVED 1th file\n",
      "STARTING CAPTURE IN 2 SECONDS\n",
      "2\n",
      "1\n",
      "STARTING CAPTURE\n",
      "SAVED 2th file\n",
      "STARTING CAPTURE IN 2 SECONDS\n",
      "2\n",
      "1\n",
      "STARTING CAPTURE\n",
      "SAVED 3th file\n",
      "STARTING CAPTURE IN 2 SECONDS\n",
      "2\n",
      "1\n",
      "STARTING CAPTURE\n",
      "SAVED 4th file\n",
      "STARTING CAPTURE IN 2 SECONDS\n",
      "2\n",
      "1\n",
      "STARTING CAPTURE\n",
      "SAVED 5th file\n",
      "STARTING CAPTURE IN 2 SECONDS\n",
      "2\n",
      "1\n",
      "STARTING CAPTURE\n",
      "SAVED 6th file\n",
      "STARTING CAPTURE IN 2 SECONDS\n",
      "2\n",
      "1\n",
      "STARTING CAPTURE\n",
      "SAVED 7th file\n",
      "STARTING CAPTURE IN 2 SECONDS\n",
      "2\n",
      "1\n",
      "STARTING CAPTURE\n",
      "SAVED 8th file\n",
      "STARTING CAPTURE IN 2 SECONDS\n",
      "2\n",
      "1\n",
      "STARTING CAPTURE\n",
      "SAVED 9th file\n",
      "STARTING CAPTURE IN 2 SECONDS\n",
      "2\n",
      "1\n",
      "STARTING CAPTURE\n",
      "SAVED 10th file\n",
      "STARTING CAPTURE IN 2 SECONDS\n",
      "2\n",
      "1\n",
      "STARTING CAPTURE\n",
      "SAVED 11th file\n",
      "STARTING CAPTURE IN 2 SECONDS\n",
      "2\n",
      "1\n",
      "STARTING CAPTURE\n",
      "SAVED 12th file\n",
      "STARTING CAPTURE IN 2 SECONDS\n",
      "2\n",
      "1\n",
      "STARTING CAPTURE\n",
      "SAVED 13th file\n",
      "STARTING CAPTURE IN 2 SECONDS\n",
      "2\n",
      "1\n",
      "STARTING CAPTURE\n",
      "SAVED 14th file\n",
      "STARTING CAPTURE IN 2 SECONDS\n",
      "2\n",
      "1\n",
      "STARTING CAPTURE\n",
      "SAVED 15th file\n",
      "STARTING CAPTURE IN 2 SECONDS\n",
      "2\n",
      "1\n",
      "STARTING CAPTURE\n",
      "SAVED 16th file\n",
      "STARTING CAPTURE IN 2 SECONDS\n",
      "2\n",
      "1\n",
      "STARTING CAPTURE\n",
      "SAVED 17th file\n",
      "STARTING CAPTURE IN 2 SECONDS\n",
      "2\n",
      "1\n",
      "STARTING CAPTURE\n",
      "SAVED 18th file\n",
      "STARTING CAPTURE IN 2 SECONDS\n",
      "2\n",
      "1\n",
      "STARTING CAPTURE\n",
      "SAVED 19th file\n",
      "STARTING CAPTURE IN 2 SECONDS\n",
      "2\n",
      "1\n",
      "STARTING CAPTURE\n",
      "SAVED 20th file\n",
      "STARTING CAPTURE IN 2 SECONDS\n",
      "2\n",
      "1\n",
      "STARTING CAPTURE\n",
      "SAVED 21th file\n",
      "STARTING CAPTURE IN 2 SECONDS\n",
      "2\n",
      "1\n",
      "STARTING CAPTURE\n",
      "SAVED 22th file\n",
      "STARTING CAPTURE IN 2 SECONDS\n",
      "2\n",
      "1\n",
      "STARTING CAPTURE\n",
      "SAVED 23th file\n",
      "STARTING CAPTURE IN 2 SECONDS\n",
      "2\n",
      "1\n",
      "STARTING CAPTURE\n",
      "SAVED 24th file\n",
      "STARTING CAPTURE IN 2 SECONDS\n",
      "2\n",
      "1\n",
      "STARTING CAPTURE\n",
      "SAVED 25th file\n",
      "STARTING CAPTURE IN 2 SECONDS\n",
      "2\n",
      "1\n",
      "STARTING CAPTURE\n",
      "SAVED 26th file\n",
      "STARTING CAPTURE IN 2 SECONDS\n",
      "2\n",
      "1\n",
      "STARTING CAPTURE\n",
      "SAVED 27th file\n",
      "STARTING CAPTURE IN 2 SECONDS\n",
      "2\n",
      "1\n",
      "STARTING CAPTURE\n",
      "SAVED 28th file\n",
      "STARTING CAPTURE IN 2 SECONDS\n",
      "2\n",
      "1\n",
      "STARTING CAPTURE\n",
      "SAVED 29th file\n"
     ]
    }
   ],
   "source": [
    "capture_and_store(\"forward\" , \"Data/forward\")"
   ]
  }
 ],
 "metadata": {
  "kernelspec": {
   "display_name": "lstm",
   "language": "python",
   "name": "python3"
  },
  "language_info": {
   "codemirror_mode": {
    "name": "ipython",
    "version": 3
   },
   "file_extension": ".py",
   "mimetype": "text/x-python",
   "name": "python",
   "nbconvert_exporter": "python",
   "pygments_lexer": "ipython3",
   "version": "3.10.13"
  }
 },
 "nbformat": 4,
 "nbformat_minor": 2
}
